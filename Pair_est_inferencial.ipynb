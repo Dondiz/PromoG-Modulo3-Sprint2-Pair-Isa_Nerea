{
 "cells": [
  {
   "cell_type": "markdown",
   "metadata": {},
   "source": [
    "**Pair programming Estadística Inferencial**"
   ]
  },
  {
   "cell_type": "markdown",
   "metadata": {},
   "source": [
    "**Ejercicios estadística inferencial**"
   ]
  },
  {
   "cell_type": "markdown",
   "metadata": {},
   "source": [
    "\n",
    "1. Igual que en los ejercicios de la clase invertida, evalúa si las siguientes afirmaciones corresponden a una distribución exponencial o poisson.\n",
    "\n",
    "- ¿El tiempo que transcurre entre la llegada de autobuses a una parada sigue una distribución exponencial o de Poisson?\n",
    "\n",
    "- Exponencial\n",
    "\n",
    "- ¿El número de errores en un artículo de noticias sigue una distribución exponencial o de Poisson?\n",
    "- Poisson\n",
    "\n",
    "- ¿El tiempo que transcurre entre la llegada de solicitudes de servicio en un restaurante sigue una distribución exponencial o de Poisson?\n",
    "- Exponencial\n",
    "\n",
    "- ¿El número de accidentes de tráfico en una hora en una ciudad sigue una distribución exponencial o de Poisson?\n",
    "-Poissson\n",
    "\n",
    "- ¿El tiempo entre llegadas de llamadas telefónicas a una central de emergencias sigue una distribución exponencial o de Poisson?\n",
    "- Exponencial\n",
    "\n",
    "- ¿El número de clientes que ingresan a una tienda en una hora sigue una distribución exponencial o de Poisson?\n",
    "- Poisson\n",
    "\n",
    "- ¿El tiempo entre llegadas de correos electrónicos en una bandeja de entrada sigue una distribución exponencial o de Poisson?\n",
    "- Exponencial\n",
    "\n",
    "- ¿El número de defectos en una línea de producción por día sigue una distribución exponencial o de Poisson?\n",
    "- Poisson\n",
    "\n",
    "- ¿El tiempo que transcurre entre la llegada de taxis en una parada sigue una distribución exponencial o de Poisson?\n",
    "- Exponencial\n",
    "\n",
    "- ¿El número de errores de ortografía en un libro de texto sigue una distribución exponencial o de Poisson?\n",
    "- Poisson\n"
   ]
  },
  {
   "cell_type": "markdown",
   "metadata": {},
   "source": [
    "2. Ejercicios intervalo de confianza. Al igual que en el caso del ejercicio de la clase invertida, piensa un motivo por el que sería interesante calcular estos intervalos de confianza para la extracción de insights.\n",
    "\n",
    "- Intervalo de Confianza para la Esperanza de Vida\n",
    "\n",
    "Contexto: Trabajas en una organización de salud global y deseas estimar el intervalo de confianza al 95% para la esperanza de vida promedio de cada continente.\n",
    "\n",
    "Nota: Cuidado porque puede que os salgan algunos nulos, genera un código para que no salgan nulos en los intervalos de confianza.\n",
    "\n",
    "- Intervalo de Confianza para el PIB\n",
    "\n",
    "Contexto: Eres una economista y quieres calcular el intervalo de confianza al 90% para el Producto Interno Bruto (PIB) de los continentes.\n",
    "\n",
    "- Intervalo de Confianza para la Tasa de Natalidad\n",
    "\n",
    "Contexto: Trabajas en una agencia gubernamental que se ocupa de cuestiones demográficas y deseas determinar el intervalo de confianza al 99% para la tasa de natalidad promedio en Asia.\n",
    "\n",
    "- Intervalo de Confianza para la Tasa de Desempleo\n",
    "\n",
    "Contexto: Eres un analista de políticas públicas y deseas calcular el intervalo de confianza al 95% para la tasa de desempleo promedio en los países de Oceanía.\n",
    "\n",
    "- Intervalo de Confianza para la Tasa de Impuestos\n",
    "\n",
    "Contexto: Trabajas en un ministerio de finanzas y deseas estimar el intervalo de confianza al 90% para la tasa de impuestos promedio en los países de África."
   ]
  },
  {
   "cell_type": "code",
   "execution_count": 1,
   "metadata": {},
   "outputs": [],
   "source": [
    "# importamos las librerías que necesitamos\n",
    "\n",
    "# Tratamiento de datos\n",
    "# -----------------------------------------------------------------------\n",
    "import pandas as pd\n",
    "import numpy as np\n",
    "\n",
    "# Visualización\n",
    "# ------------------------------------------------------------------------------\n",
    "import matplotlib.pyplot as plt\n",
    "import seaborn as sns\n",
    "\n",
    "# Evaluar linealidad de las relaciones entre las variables\n",
    "# y la distribución de las variables\n",
    "# ------------------------------------------------------------------------------\n",
    "import scipy.stats as stats\n",
    "from scipy.stats import shapiro, poisson, chisquare, expon, kstest\n",
    "\n",
    "\n",
    "# Configuración\n",
    "# -----------------------------------------------------------------------\n",
    "pd.set_option('display.max_columns', None) # para poder visualizar todas las columnas de los DataFrames\n",
    "\n",
    "# Gestión de los warnings\n",
    "# -----------------------------------------------------------------------\n",
    "import warnings\n",
    "warnings.filterwarnings(\"ignore\")\n",
    "\n",
    "\n",
    "from itertools import combinations"
   ]
  },
  {
   "cell_type": "code",
   "execution_count": 5,
   "metadata": {},
   "outputs": [],
   "source": [
    "df = pd.read_csv('PromoG-Modulo3-Sprint2-Pair-Isa_Nerea/world_data_full_apply_nulos.csv', index_col=0)"
   ]
  },
  {
   "cell_type": "code",
   "execution_count": 6,
   "metadata": {},
   "outputs": [
    {
     "data": {
      "text/plain": [
       "Index(['country', 'density', 'abbreviation', 'agricultural_land', 'land_area',\n",
       "       'armed_forces_size', 'birth_rate', 'calling_code', 'capital/major_city',\n",
       "       'co2-emissions', 'cpi', 'cpi_change', 'currency-code', 'fertility_rate',\n",
       "       'forested_area', 'gasoline_price', 'gdp',\n",
       "       'gross_primary_education_enrollment',\n",
       "       'gross_tertiary_education_enrollment', 'infant_mortality',\n",
       "       'largest_city', 'life_expectancy', 'maternal_mortality_ratio',\n",
       "       'minimum_wage', 'official_language', 'out_of_pocket_health_expenditure',\n",
       "       'physicians_per_thousand', 'population',\n",
       "       'population_labor_force_participation', 'tax_revenue', 'total_tax_rate',\n",
       "       'unemployment_rate', 'urban_population', 'latitude', 'longitude',\n",
       "       'continent'],\n",
       "      dtype='object')"
      ]
     },
     "execution_count": 6,
     "metadata": {},
     "output_type": "execute_result"
    }
   ],
   "source": [
    "df.columns"
   ]
  },
  {
   "cell_type": "code",
   "execution_count": 21,
   "metadata": {},
   "outputs": [
    {
     "data": {
      "text/plain": [
       "{'Africa': 63.724999999999994,\n",
       " 'Asia': 73.78181818181818,\n",
       " 'Central America': 74.69,\n",
       " 'Europe': 79.20232558139534,\n",
       " 'North America': 80.2,\n",
       " 'Oceania': 71.125,\n",
       " 'South America': 74.81538461538462}"
      ]
     },
     "execution_count": 21,
     "metadata": {},
     "output_type": "execute_result"
    }
   ],
   "source": [
    "dicc = dict(df.groupby('continent')[life_expectancy''].mean())\n",
    "dicc"
   ]
  },
  {
   "cell_type": "code",
   "execution_count": 24,
   "metadata": {},
   "outputs": [
    {
     "data": {
      "text/plain": [
       "array(['Asia', 'Europe', 'Africa', 'Central America', 'South America',\n",
       "       'Oceania', 'North America', nan], dtype=object)"
      ]
     },
     "execution_count": 24,
     "metadata": {},
     "output_type": "execute_result"
    }
   ],
   "source": [
    "continentes = df['continent'].unique()\n",
    "continentes"
   ]
  },
  {
   "cell_type": "code",
   "execution_count": 25,
   "metadata": {},
   "outputs": [],
   "source": [
    "for continente in continentes:\n",
    "    globals()[f\"df_{continente}\"] = df[df['continent'] == continente]"
   ]
  },
  {
   "cell_type": "code",
   "execution_count": 27,
   "metadata": {},
   "outputs": [
    {
     "data": {
      "text/html": [
       "<div>\n",
       "<style scoped>\n",
       "    .dataframe tbody tr th:only-of-type {\n",
       "        vertical-align: middle;\n",
       "    }\n",
       "\n",
       "    .dataframe tbody tr th {\n",
       "        vertical-align: top;\n",
       "    }\n",
       "\n",
       "    .dataframe thead th {\n",
       "        text-align: right;\n",
       "    }\n",
       "</style>\n",
       "<table border=\"1\" class=\"dataframe\">\n",
       "  <thead>\n",
       "    <tr style=\"text-align: right;\">\n",
       "      <th></th>\n",
       "      <th>country</th>\n",
       "      <th>density</th>\n",
       "      <th>abbreviation</th>\n",
       "      <th>agricultural_land</th>\n",
       "      <th>land_area</th>\n",
       "      <th>armed_forces_size</th>\n",
       "      <th>birth_rate</th>\n",
       "      <th>calling_code</th>\n",
       "      <th>capital/major_city</th>\n",
       "      <th>co2-emissions</th>\n",
       "      <th>cpi</th>\n",
       "      <th>cpi_change</th>\n",
       "      <th>currency-code</th>\n",
       "      <th>fertility_rate</th>\n",
       "      <th>forested_area</th>\n",
       "      <th>gasoline_price</th>\n",
       "      <th>gdp</th>\n",
       "      <th>gross_primary_education_enrollment</th>\n",
       "      <th>gross_tertiary_education_enrollment</th>\n",
       "      <th>infant_mortality</th>\n",
       "      <th>largest_city</th>\n",
       "      <th>life_expectancy</th>\n",
       "      <th>maternal_mortality_ratio</th>\n",
       "      <th>minimum_wage</th>\n",
       "      <th>official_language</th>\n",
       "      <th>out_of_pocket_health_expenditure</th>\n",
       "      <th>physicians_per_thousand</th>\n",
       "      <th>population</th>\n",
       "      <th>population_labor_force_participation</th>\n",
       "      <th>tax_revenue</th>\n",
       "      <th>total_tax_rate</th>\n",
       "      <th>unemployment_rate</th>\n",
       "      <th>urban_population</th>\n",
       "      <th>latitude</th>\n",
       "      <th>longitude</th>\n",
       "      <th>continent</th>\n",
       "    </tr>\n",
       "  </thead>\n",
       "  <tbody>\n",
       "    <tr>\n",
       "      <th>1</th>\n",
       "      <td>Albania</td>\n",
       "      <td>105.0</td>\n",
       "      <td>AL</td>\n",
       "      <td>43.1</td>\n",
       "      <td>28.748</td>\n",
       "      <td>9.0</td>\n",
       "      <td>11.78</td>\n",
       "      <td>355.0</td>\n",
       "      <td>Tirana</td>\n",
       "      <td>4.536</td>\n",
       "      <td>119.05</td>\n",
       "      <td>1.4</td>\n",
       "      <td>ALL</td>\n",
       "      <td>1.62</td>\n",
       "      <td>28.1</td>\n",
       "      <td>1.36</td>\n",
       "      <td>1.527808e+10</td>\n",
       "      <td>107.0</td>\n",
       "      <td>55.0</td>\n",
       "      <td>7.8</td>\n",
       "      <td>Tirana</td>\n",
       "      <td>78.5</td>\n",
       "      <td>15.0</td>\n",
       "      <td>1.12</td>\n",
       "      <td>Albanian</td>\n",
       "      <td>56.9</td>\n",
       "      <td>1.20</td>\n",
       "      <td>NaN</td>\n",
       "      <td>55.7</td>\n",
       "      <td>18.6</td>\n",
       "      <td>36.6</td>\n",
       "      <td>12.33</td>\n",
       "      <td>NaN</td>\n",
       "      <td>41.153332</td>\n",
       "      <td>20.168331</td>\n",
       "      <td>Europe</td>\n",
       "    </tr>\n",
       "    <tr>\n",
       "      <th>3</th>\n",
       "      <td>Andorra</td>\n",
       "      <td>164.0</td>\n",
       "      <td>AD</td>\n",
       "      <td>40.0</td>\n",
       "      <td>468.000</td>\n",
       "      <td>NaN</td>\n",
       "      <td>7.20</td>\n",
       "      <td>376.0</td>\n",
       "      <td>Andorra la Vella</td>\n",
       "      <td>469.000</td>\n",
       "      <td>NaN</td>\n",
       "      <td>NaN</td>\n",
       "      <td>EUR</td>\n",
       "      <td>1.27</td>\n",
       "      <td>34.0</td>\n",
       "      <td>1.51</td>\n",
       "      <td>3.154058e+09</td>\n",
       "      <td>106.4</td>\n",
       "      <td>NaN</td>\n",
       "      <td>2.7</td>\n",
       "      <td>Andorra la Vella</td>\n",
       "      <td>NaN</td>\n",
       "      <td>NaN</td>\n",
       "      <td>6.63</td>\n",
       "      <td>Catalan</td>\n",
       "      <td>36.4</td>\n",
       "      <td>3.33</td>\n",
       "      <td>77.142</td>\n",
       "      <td>NaN</td>\n",
       "      <td>NaN</td>\n",
       "      <td>NaN</td>\n",
       "      <td>NaN</td>\n",
       "      <td>67.873</td>\n",
       "      <td>42.506285</td>\n",
       "      <td>1.521801</td>\n",
       "      <td>Europe</td>\n",
       "    </tr>\n",
       "    <tr>\n",
       "      <th>9</th>\n",
       "      <td>Austria</td>\n",
       "      <td>109.0</td>\n",
       "      <td>AT</td>\n",
       "      <td>32.4</td>\n",
       "      <td>83.871</td>\n",
       "      <td>21.0</td>\n",
       "      <td>9.70</td>\n",
       "      <td>43.0</td>\n",
       "      <td>Vienna</td>\n",
       "      <td>61.448</td>\n",
       "      <td>118.06</td>\n",
       "      <td>1.5</td>\n",
       "      <td>EUR</td>\n",
       "      <td>1.47</td>\n",
       "      <td>46.9</td>\n",
       "      <td>1.20</td>\n",
       "      <td>4.463147e+11</td>\n",
       "      <td>103.1</td>\n",
       "      <td>85.1</td>\n",
       "      <td>2.9</td>\n",
       "      <td>Vienna</td>\n",
       "      <td>81.6</td>\n",
       "      <td>5.0</td>\n",
       "      <td>NaN</td>\n",
       "      <td>German</td>\n",
       "      <td>17.9</td>\n",
       "      <td>5.17</td>\n",
       "      <td>NaN</td>\n",
       "      <td>60.7</td>\n",
       "      <td>25.4</td>\n",
       "      <td>51.4</td>\n",
       "      <td>4.67</td>\n",
       "      <td>NaN</td>\n",
       "      <td>47.516231</td>\n",
       "      <td>14.550072</td>\n",
       "      <td>Europe</td>\n",
       "    </tr>\n",
       "    <tr>\n",
       "      <th>15</th>\n",
       "      <td>Belarus</td>\n",
       "      <td>47.0</td>\n",
       "      <td>BY</td>\n",
       "      <td>42.0</td>\n",
       "      <td>207.600</td>\n",
       "      <td>155.0</td>\n",
       "      <td>9.90</td>\n",
       "      <td>375.0</td>\n",
       "      <td>Minsk</td>\n",
       "      <td>58.280</td>\n",
       "      <td>NaN</td>\n",
       "      <td>5.6</td>\n",
       "      <td>BYN</td>\n",
       "      <td>1.45</td>\n",
       "      <td>42.6</td>\n",
       "      <td>0.60</td>\n",
       "      <td>6.308046e+10</td>\n",
       "      <td>100.5</td>\n",
       "      <td>87.4</td>\n",
       "      <td>2.6</td>\n",
       "      <td>Minsk</td>\n",
       "      <td>74.2</td>\n",
       "      <td>2.0</td>\n",
       "      <td>1.49</td>\n",
       "      <td>Russian</td>\n",
       "      <td>34.5</td>\n",
       "      <td>5.19</td>\n",
       "      <td>NaN</td>\n",
       "      <td>64.1</td>\n",
       "      <td>14.7</td>\n",
       "      <td>53.3</td>\n",
       "      <td>4.59</td>\n",
       "      <td>NaN</td>\n",
       "      <td>53.709807</td>\n",
       "      <td>27.953389</td>\n",
       "      <td>Europe</td>\n",
       "    </tr>\n",
       "    <tr>\n",
       "      <th>16</th>\n",
       "      <td>Belgium</td>\n",
       "      <td>383.0</td>\n",
       "      <td>BE</td>\n",
       "      <td>44.6</td>\n",
       "      <td>30.528</td>\n",
       "      <td>32.0</td>\n",
       "      <td>10.30</td>\n",
       "      <td>32.0</td>\n",
       "      <td>City of Brussels</td>\n",
       "      <td>96.889</td>\n",
       "      <td>117.11</td>\n",
       "      <td>1.4</td>\n",
       "      <td>EUR</td>\n",
       "      <td>1.62</td>\n",
       "      <td>22.6</td>\n",
       "      <td>1.43</td>\n",
       "      <td>5.296067e+11</td>\n",
       "      <td>103.9</td>\n",
       "      <td>79.7</td>\n",
       "      <td>2.9</td>\n",
       "      <td>Brussels</td>\n",
       "      <td>81.6</td>\n",
       "      <td>5.0</td>\n",
       "      <td>10.31</td>\n",
       "      <td>French</td>\n",
       "      <td>17.6</td>\n",
       "      <td>3.07</td>\n",
       "      <td>NaN</td>\n",
       "      <td>53.6</td>\n",
       "      <td>24.0</td>\n",
       "      <td>55.4</td>\n",
       "      <td>5.59</td>\n",
       "      <td>NaN</td>\n",
       "      <td>50.503887</td>\n",
       "      <td>4.469936</td>\n",
       "      <td>Europe</td>\n",
       "    </tr>\n",
       "  </tbody>\n",
       "</table>\n",
       "</div>"
      ],
      "text/plain": [
       "    country  density abbreviation  agricultural_land  land_area  \\\n",
       "1   Albania    105.0           AL               43.1     28.748   \n",
       "3   Andorra    164.0           AD               40.0    468.000   \n",
       "9   Austria    109.0           AT               32.4     83.871   \n",
       "15  Belarus     47.0           BY               42.0    207.600   \n",
       "16  Belgium    383.0           BE               44.6     30.528   \n",
       "\n",
       "    armed_forces_size  birth_rate  calling_code capital/major_city  \\\n",
       "1                 9.0       11.78         355.0             Tirana   \n",
       "3                 NaN        7.20         376.0   Andorra la Vella   \n",
       "9                21.0        9.70          43.0             Vienna   \n",
       "15              155.0        9.90         375.0              Minsk   \n",
       "16               32.0       10.30          32.0   City of Brussels   \n",
       "\n",
       "    co2-emissions     cpi  cpi_change currency-code  fertility_rate  \\\n",
       "1           4.536  119.05         1.4           ALL            1.62   \n",
       "3         469.000     NaN         NaN           EUR            1.27   \n",
       "9          61.448  118.06         1.5           EUR            1.47   \n",
       "15         58.280     NaN         5.6           BYN            1.45   \n",
       "16         96.889  117.11         1.4           EUR            1.62   \n",
       "\n",
       "    forested_area  gasoline_price           gdp  \\\n",
       "1            28.1            1.36  1.527808e+10   \n",
       "3            34.0            1.51  3.154058e+09   \n",
       "9            46.9            1.20  4.463147e+11   \n",
       "15           42.6            0.60  6.308046e+10   \n",
       "16           22.6            1.43  5.296067e+11   \n",
       "\n",
       "    gross_primary_education_enrollment  gross_tertiary_education_enrollment  \\\n",
       "1                                107.0                                 55.0   \n",
       "3                                106.4                                  NaN   \n",
       "9                                103.1                                 85.1   \n",
       "15                               100.5                                 87.4   \n",
       "16                               103.9                                 79.7   \n",
       "\n",
       "    infant_mortality      largest_city  life_expectancy  \\\n",
       "1                7.8            Tirana             78.5   \n",
       "3                2.7  Andorra la Vella              NaN   \n",
       "9                2.9            Vienna             81.6   \n",
       "15               2.6             Minsk             74.2   \n",
       "16               2.9          Brussels             81.6   \n",
       "\n",
       "    maternal_mortality_ratio  minimum_wage official_language  \\\n",
       "1                       15.0          1.12          Albanian   \n",
       "3                        NaN          6.63           Catalan   \n",
       "9                        5.0           NaN            German   \n",
       "15                       2.0          1.49           Russian   \n",
       "16                       5.0         10.31            French   \n",
       "\n",
       "    out_of_pocket_health_expenditure  physicians_per_thousand  population  \\\n",
       "1                               56.9                     1.20         NaN   \n",
       "3                               36.4                     3.33      77.142   \n",
       "9                               17.9                     5.17         NaN   \n",
       "15                              34.5                     5.19         NaN   \n",
       "16                              17.6                     3.07         NaN   \n",
       "\n",
       "    population_labor_force_participation  tax_revenue  total_tax_rate  \\\n",
       "1                                   55.7         18.6            36.6   \n",
       "3                                    NaN          NaN             NaN   \n",
       "9                                   60.7         25.4            51.4   \n",
       "15                                  64.1         14.7            53.3   \n",
       "16                                  53.6         24.0            55.4   \n",
       "\n",
       "    unemployment_rate  urban_population   latitude  longitude continent  \n",
       "1               12.33               NaN  41.153332  20.168331    Europe  \n",
       "3                 NaN            67.873  42.506285   1.521801    Europe  \n",
       "9                4.67               NaN  47.516231  14.550072    Europe  \n",
       "15               4.59               NaN  53.709807  27.953389    Europe  \n",
       "16               5.59               NaN  50.503887   4.469936    Europe  "
      ]
     },
     "execution_count": 27,
     "metadata": {},
     "output_type": "execute_result"
    }
   ],
   "source": [
    "df_Europe.head()"
   ]
  },
  {
   "cell_type": "code",
   "execution_count": 28,
   "metadata": {},
   "outputs": [],
   "source": [
    "media = dicc['Europe']\n",
    "error = stats.sem(df_Europe['life_expectancy'].dropna())\n",
    "nivel_conf = 0.95\n",
    "gr_libertad = len(df_Europe['life_expectancy'].dropna())\n",
    "v_critico = stats.t.ppf((1+nivel_conf)/2, df= gr_libertad)\n",
    "lim_inf = media - v_critico * error\n",
    "lim_sup = media + v_critico * error\n"
   ]
  },
  {
   "cell_type": "code",
   "execution_count": 29,
   "metadata": {},
   "outputs": [
    {
     "name": "stdout",
     "output_type": "stream",
     "text": [
      "78.08863180964391 80.31601935314677\n"
     ]
    }
   ],
   "source": [
    "print(lim_inf, lim_sup)"
   ]
  },
  {
   "cell_type": "code",
   "execution_count": 30,
   "metadata": {},
   "outputs": [],
   "source": [
    "media = dicc['Asia']\n",
    "error = stats.sem(df_Asia['life_expectancy'].dropna())\n",
    "nivel_conf = 0.95\n",
    "gr_libertad = len(df_Asia['life_expectancy'].dropna())\n",
    "v_critico = stats.t.ppf((1+nivel_conf)/2, df= gr_libertad)\n",
    "lim_inf = media - v_critico * error\n",
    "lim_sup = media + v_critico * error"
   ]
  },
  {
   "cell_type": "code",
   "execution_count": 31,
   "metadata": {},
   "outputs": [
    {
     "name": "stdout",
     "output_type": "stream",
     "text": [
      "72.32510366625513 75.23853269738123\n"
     ]
    }
   ],
   "source": [
    "print(lim_inf, lim_sup)"
   ]
  },
  {
   "cell_type": "code",
   "execution_count": 32,
   "metadata": {},
   "outputs": [],
   "source": [
    "media = dicc['Africa']\n",
    "error = stats.sem(df_Africa['life_expectancy'].dropna())\n",
    "nivel_conf = 0.95\n",
    "gr_libertad = len(df_Africa['life_expectancy'].dropna())\n",
    "v_critico = stats.t.ppf((1+nivel_conf)/2, df= gr_libertad)\n",
    "lim_inf = media - v_critico * error\n",
    "lim_sup = media + v_critico * error"
   ]
  },
  {
   "cell_type": "code",
   "execution_count": 33,
   "metadata": {},
   "outputs": [
    {
     "name": "stdout",
     "output_type": "stream",
     "text": [
      "62.055133650027805 65.39486634997219\n"
     ]
    }
   ],
   "source": [
    "print(lim_inf, lim_sup)"
   ]
  },
  {
   "cell_type": "code",
   "execution_count": 36,
   "metadata": {},
   "outputs": [],
   "source": [
    "media = df_Africa['gdp'].mean()\n",
    "error = stats.sem(df_Africa['gdp'].dropna())\n",
    "nivel_conf = 0.90\n",
    "gr_libertad = len(df_Africa['gdp'].dropna())\n",
    "v_critico = stats.t.ppf((1+nivel_conf)/2, df= gr_libertad)\n",
    "lim_inf = media - v_critico * error\n",
    "lim_sup = media + v_critico * error"
   ]
  },
  {
   "cell_type": "code",
   "execution_count": 37,
   "metadata": {},
   "outputs": [
    {
     "name": "stdout",
     "output_type": "stream",
     "text": [
      "25903172096.93095 66257946190.8049\n"
     ]
    }
   ],
   "source": [
    "print(lim_inf, lim_sup)"
   ]
  },
  {
   "cell_type": "markdown",
   "metadata": {},
   "source": [
    "3. Ejercicios prueba de hipótesis: Hasta ahora en la lección y en los ejercicios de la clase invertida os hemos propuesto un contexto y unas hipótesis para entender que es la prueba de hipótesis. Ahora es tu turno, tienes que pensar en 2 hipótesis que quieras aceptar o rechazar usando una prueba de hipótesis en base a los datos que tenemos."
   ]
  },
  {
   "cell_type": "markdown",
   "metadata": {},
   "source": [
    "H0: La esperanza de vida es la misma en África y Oceania \n",
    "\n",
    "\n",
    "H1: La esperanza de vida no es la misma en África y Oceania "
   ]
  },
  {
   "cell_type": "code",
   "execution_count": 42,
   "metadata": {},
   "outputs": [],
   "source": [
    "def prueba_hipotesis(*args):\n",
    "    \n",
    "    # lo primero que tenemos que hacer es mirar si las varianzas son iguales o no\n",
    "    if len(args) == 2:\n",
    "        p_valor_varianza = stats.levene(*args, center = \"median\")[1]\n",
    "    else:\n",
    "        p_valor_varianza = stats.bartlett(*args)[1]\n",
    "    \n",
    "    if p_valor_varianza > 0.05:\n",
    "        # realizamos la prueba t de Student\n",
    "        t_stat, p_valor = stats.ttest_ind(*args, equal_var=True, nan_policy= 'omit')\n",
    "    else:\n",
    "        t_stat, p_valor = stats.ttest_ind(*args, equal_var=False, nan_policy= 'omit')\n",
    "        \n",
    "    # Establecemos un nivel de significancia (alfa)\n",
    "    alfa = 0.05\n",
    "    # comparamos el p-valor con el nivel de significancia\n",
    "    if p_valor < alfa:\n",
    "        print(\"Rechazamos la hipótesis nula.\")\n",
    "        print(\"Hay una diferencia significativa en los ingresos promedio entre los dos grupos.\")\n",
    "    else:\n",
    "        print(\"No podemos rechazar la hipótesis nula.\")\n",
    "        print(\"No hay evidencia suficiente para afirmar una diferencia significativa en los ingresos promedio entre los dos grupos.\")"
   ]
  },
  {
   "cell_type": "code",
   "execution_count": 43,
   "metadata": {},
   "outputs": [],
   "source": [
    "grupo_Africa= df_Africa['life_expectancy']\n",
    "grupo_oceania= df_Oceania['life_expectancy']"
   ]
  },
  {
   "cell_type": "code",
   "execution_count": 44,
   "metadata": {},
   "outputs": [
    {
     "name": "stdout",
     "output_type": "stream",
     "text": [
      "Rechazamos la hipótesis nula.\n",
      "Hay una diferencia significativa en los ingresos promedio entre los dos grupos.\n"
     ]
    }
   ],
   "source": [
    "prueba_hipotesis(grupo_Africa, grupo_oceania)"
   ]
  }
 ],
 "metadata": {
  "kernelspec": {
   "display_name": "base",
   "language": "python",
   "name": "python3"
  },
  "language_info": {
   "codemirror_mode": {
    "name": "ipython",
    "version": 3
   },
   "file_extension": ".py",
   "mimetype": "text/x-python",
   "name": "python",
   "nbconvert_exporter": "python",
   "pygments_lexer": "ipython3",
   "version": "3.9.12"
  }
 },
 "nbformat": 4,
 "nbformat_minor": 2
}
