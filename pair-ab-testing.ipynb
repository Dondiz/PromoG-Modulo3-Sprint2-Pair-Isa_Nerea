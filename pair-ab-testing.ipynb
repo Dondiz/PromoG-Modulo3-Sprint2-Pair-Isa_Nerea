{
 "cells": [
  {
   "cell_type": "code",
   "execution_count": 1,
   "metadata": {},
   "outputs": [
    {
     "name": "stderr",
     "output_type": "stream",
     "text": [
      "C:\\Users\\Isabel\\AppData\\Local\\Temp\\ipykernel_13844\\4252833058.py:1: DeprecationWarning: \n",
      "Pyarrow will become a required dependency of pandas in the next major release of pandas (pandas 3.0),\n",
      "(to allow more performant data types, such as the Arrow string type, and better interoperability with other libraries)\n",
      "but was not found to be installed on your system.\n",
      "If this would cause problems for you,\n",
      "please provide us feedback at https://github.com/pandas-dev/pandas/issues/54466\n",
      "        \n",
      "  import pandas as pd\n"
     ]
    }
   ],
   "source": [
    "import pandas as pd\n",
    "import numpy as np\n",
    "\n",
    "\n",
    "# Visualización\n",
    "# ------------------------------------------------------------------------------\n",
    "import matplotlib.pyplot as plt\n",
    "import seaborn as sns\n",
    "\n",
    "# Realizar los distintos test\n",
    "# ------------------------------------------------------------------------------\n",
    "\n",
    "from scipy.stats import ttest_ind, norm, chi2_contingency, f_oneway\n",
    "from sklearn.linear_model import LinearRegression\n",
    "\n",
    "\n",
    "# Gestión de los warnings\n",
    "# -----------------------------------------------------------------------\n",
    "import warnings\n",
    "warnings.filterwarnings(\"ignore\")"
   ]
  },
  {
   "cell_type": "code",
   "execution_count": 3,
   "metadata": {},
   "outputs": [
    {
     "data": {
      "text/html": [
       "<div>\n",
       "<style scoped>\n",
       "    .dataframe tbody tr th:only-of-type {\n",
       "        vertical-align: middle;\n",
       "    }\n",
       "\n",
       "    .dataframe tbody tr th {\n",
       "        vertical-align: top;\n",
       "    }\n",
       "\n",
       "    .dataframe thead th {\n",
       "        text-align: right;\n",
       "    }\n",
       "</style>\n",
       "<table border=\"1\" class=\"dataframe\">\n",
       "  <thead>\n",
       "    <tr style=\"text-align: right;\">\n",
       "      <th></th>\n",
       "      <th>user id</th>\n",
       "      <th>test group</th>\n",
       "      <th>converted</th>\n",
       "      <th>total ads</th>\n",
       "      <th>most ads day</th>\n",
       "      <th>most ads hour</th>\n",
       "    </tr>\n",
       "  </thead>\n",
       "  <tbody>\n",
       "    <tr>\n",
       "      <th>0</th>\n",
       "      <td>1069124</td>\n",
       "      <td>ad</td>\n",
       "      <td>False</td>\n",
       "      <td>130</td>\n",
       "      <td>Monday</td>\n",
       "      <td>20</td>\n",
       "    </tr>\n",
       "    <tr>\n",
       "      <th>1</th>\n",
       "      <td>1119715</td>\n",
       "      <td>ad</td>\n",
       "      <td>False</td>\n",
       "      <td>93</td>\n",
       "      <td>Tuesday</td>\n",
       "      <td>22</td>\n",
       "    </tr>\n",
       "    <tr>\n",
       "      <th>2</th>\n",
       "      <td>1144181</td>\n",
       "      <td>ad</td>\n",
       "      <td>False</td>\n",
       "      <td>21</td>\n",
       "      <td>Tuesday</td>\n",
       "      <td>18</td>\n",
       "    </tr>\n",
       "    <tr>\n",
       "      <th>3</th>\n",
       "      <td>1435133</td>\n",
       "      <td>ad</td>\n",
       "      <td>False</td>\n",
       "      <td>355</td>\n",
       "      <td>Tuesday</td>\n",
       "      <td>10</td>\n",
       "    </tr>\n",
       "    <tr>\n",
       "      <th>4</th>\n",
       "      <td>1015700</td>\n",
       "      <td>ad</td>\n",
       "      <td>False</td>\n",
       "      <td>276</td>\n",
       "      <td>Friday</td>\n",
       "      <td>14</td>\n",
       "    </tr>\n",
       "  </tbody>\n",
       "</table>\n",
       "</div>"
      ],
      "text/plain": [
       "   user id test group  converted  total ads most ads day  most ads hour\n",
       "0  1069124         ad      False        130       Monday             20\n",
       "1  1119715         ad      False         93      Tuesday             22\n",
       "2  1144181         ad      False         21      Tuesday             18\n",
       "3  1435133         ad      False        355      Tuesday             10\n",
       "4  1015700         ad      False        276       Friday             14"
      ]
     },
     "execution_count": 3,
     "metadata": {},
     "output_type": "execute_result"
    }
   ],
   "source": [
    "df = pd.read_csv('marketing_AB.csv', index_col=0)\n",
    "\n",
    "df.head"
   ]
  },
  {
   "cell_type": "code",
   "execution_count": 12,
   "metadata": {},
   "outputs": [
    {
     "data": {
      "text/plain": [
       "array(['ad', 'psa'], dtype=object)"
      ]
     },
     "execution_count": 12,
     "metadata": {},
     "output_type": "execute_result"
    }
   ],
   "source": [
    "df['test group'].unique()"
   ]
  },
  {
   "cell_type": "code",
   "execution_count": 9,
   "metadata": {},
   "outputs": [
    {
     "data": {
      "text/plain": [
       "(588101, 6)"
      ]
     },
     "execution_count": 9,
     "metadata": {},
     "output_type": "execute_result"
    }
   ],
   "source": [
    "df.shape"
   ]
  },
  {
   "cell_type": "code",
   "execution_count": 5,
   "metadata": {},
   "outputs": [
    {
     "data": {
      "text/plain": [
       "user id          0\n",
       "test group       0\n",
       "converted        0\n",
       "total ads        0\n",
       "most ads day     0\n",
       "most ads hour    0\n",
       "dtype: int64"
      ]
     },
     "execution_count": 5,
     "metadata": {},
     "output_type": "execute_result"
    }
   ],
   "source": [
    "df.isnull().sum()"
   ]
  },
  {
   "cell_type": "code",
   "execution_count": 6,
   "metadata": {},
   "outputs": [
    {
     "data": {
      "text/html": [
       "<div>\n",
       "<style scoped>\n",
       "    .dataframe tbody tr th:only-of-type {\n",
       "        vertical-align: middle;\n",
       "    }\n",
       "\n",
       "    .dataframe tbody tr th {\n",
       "        vertical-align: top;\n",
       "    }\n",
       "\n",
       "    .dataframe thead th {\n",
       "        text-align: right;\n",
       "    }\n",
       "</style>\n",
       "<table border=\"1\" class=\"dataframe\">\n",
       "  <thead>\n",
       "    <tr style=\"text-align: right;\">\n",
       "      <th></th>\n",
       "      <th>user id</th>\n",
       "      <th>total ads</th>\n",
       "      <th>most ads hour</th>\n",
       "    </tr>\n",
       "  </thead>\n",
       "  <tbody>\n",
       "    <tr>\n",
       "      <th>count</th>\n",
       "      <td>5.881010e+05</td>\n",
       "      <td>588101.000000</td>\n",
       "      <td>588101.000000</td>\n",
       "    </tr>\n",
       "    <tr>\n",
       "      <th>mean</th>\n",
       "      <td>1.310692e+06</td>\n",
       "      <td>24.820876</td>\n",
       "      <td>14.469061</td>\n",
       "    </tr>\n",
       "    <tr>\n",
       "      <th>std</th>\n",
       "      <td>2.022260e+05</td>\n",
       "      <td>43.715181</td>\n",
       "      <td>4.834634</td>\n",
       "    </tr>\n",
       "    <tr>\n",
       "      <th>min</th>\n",
       "      <td>9.000000e+05</td>\n",
       "      <td>1.000000</td>\n",
       "      <td>0.000000</td>\n",
       "    </tr>\n",
       "    <tr>\n",
       "      <th>25%</th>\n",
       "      <td>1.143190e+06</td>\n",
       "      <td>4.000000</td>\n",
       "      <td>11.000000</td>\n",
       "    </tr>\n",
       "    <tr>\n",
       "      <th>50%</th>\n",
       "      <td>1.313725e+06</td>\n",
       "      <td>13.000000</td>\n",
       "      <td>14.000000</td>\n",
       "    </tr>\n",
       "    <tr>\n",
       "      <th>75%</th>\n",
       "      <td>1.484088e+06</td>\n",
       "      <td>27.000000</td>\n",
       "      <td>18.000000</td>\n",
       "    </tr>\n",
       "    <tr>\n",
       "      <th>max</th>\n",
       "      <td>1.654483e+06</td>\n",
       "      <td>2065.000000</td>\n",
       "      <td>23.000000</td>\n",
       "    </tr>\n",
       "  </tbody>\n",
       "</table>\n",
       "</div>"
      ],
      "text/plain": [
       "            user id      total ads  most ads hour\n",
       "count  5.881010e+05  588101.000000  588101.000000\n",
       "mean   1.310692e+06      24.820876      14.469061\n",
       "std    2.022260e+05      43.715181       4.834634\n",
       "min    9.000000e+05       1.000000       0.000000\n",
       "25%    1.143190e+06       4.000000      11.000000\n",
       "50%    1.313725e+06      13.000000      14.000000\n",
       "75%    1.484088e+06      27.000000      18.000000\n",
       "max    1.654483e+06    2065.000000      23.000000"
      ]
     },
     "execution_count": 6,
     "metadata": {},
     "output_type": "execute_result"
    }
   ],
   "source": [
    "df.describe()"
   ]
  },
  {
   "cell_type": "code",
   "execution_count": 7,
   "metadata": {},
   "outputs": [
    {
     "data": {
      "text/html": [
       "<div>\n",
       "<style scoped>\n",
       "    .dataframe tbody tr th:only-of-type {\n",
       "        vertical-align: middle;\n",
       "    }\n",
       "\n",
       "    .dataframe tbody tr th {\n",
       "        vertical-align: top;\n",
       "    }\n",
       "\n",
       "    .dataframe thead th {\n",
       "        text-align: right;\n",
       "    }\n",
       "</style>\n",
       "<table border=\"1\" class=\"dataframe\">\n",
       "  <thead>\n",
       "    <tr style=\"text-align: right;\">\n",
       "      <th></th>\n",
       "      <th>test group</th>\n",
       "      <th>most ads day</th>\n",
       "    </tr>\n",
       "  </thead>\n",
       "  <tbody>\n",
       "    <tr>\n",
       "      <th>count</th>\n",
       "      <td>588101</td>\n",
       "      <td>588101</td>\n",
       "    </tr>\n",
       "    <tr>\n",
       "      <th>unique</th>\n",
       "      <td>2</td>\n",
       "      <td>7</td>\n",
       "    </tr>\n",
       "    <tr>\n",
       "      <th>top</th>\n",
       "      <td>ad</td>\n",
       "      <td>Friday</td>\n",
       "    </tr>\n",
       "    <tr>\n",
       "      <th>freq</th>\n",
       "      <td>564577</td>\n",
       "      <td>92608</td>\n",
       "    </tr>\n",
       "  </tbody>\n",
       "</table>\n",
       "</div>"
      ],
      "text/plain": [
       "       test group most ads day\n",
       "count      588101       588101\n",
       "unique          2            7\n",
       "top            ad       Friday\n",
       "freq       564577        92608"
      ]
     },
     "execution_count": 7,
     "metadata": {},
     "output_type": "execute_result"
    }
   ],
   "source": [
    "df.describe(include='object')"
   ]
  },
  {
   "cell_type": "code",
   "execution_count": 8,
   "metadata": {},
   "outputs": [
    {
     "data": {
      "text/plain": [
       "0"
      ]
     },
     "execution_count": 8,
     "metadata": {},
     "output_type": "execute_result"
    }
   ],
   "source": [
    "df.duplicated().sum()"
   ]
  },
  {
   "cell_type": "code",
   "execution_count": 11,
   "metadata": {},
   "outputs": [
    {
     "name": "stdout",
     "output_type": "stream",
     "text": [
      "Columna: user id. Duplicados: 0\n",
      "Columna: test group. Duplicados: 588099\n",
      "Columna: converted. Duplicados: 588099\n",
      "Columna: total ads. Duplicados: 587294\n",
      "Columna: most ads day. Duplicados: 588094\n",
      "Columna: most ads hour. Duplicados: 588077\n"
     ]
    }
   ],
   "source": [
    "for columna in df.columns:\n",
    "    print(f'Columna: {columna}. Duplicados: {df[columna].duplicated().sum()}')"
   ]
  },
  {
   "cell_type": "markdown",
   "metadata": {},
   "source": [
    "# Hipótesis\n",
    "\n",
    "H0: No hay diferencia significativa en la tasa de conversión entre los grupos de prueba \"ad\" y \"psa\".\n",
    "\n",
    "H1: Existe una diferencia significativa en la tasa de conversión entre los grupos de prueba \"ad\" y \"psa\"."
   ]
  },
  {
   "cell_type": "code",
   "execution_count": 16,
   "metadata": {},
   "outputs": [
    {
     "data": {
      "text/html": [
       "<div>\n",
       "<style scoped>\n",
       "    .dataframe tbody tr th:only-of-type {\n",
       "        vertical-align: middle;\n",
       "    }\n",
       "\n",
       "    .dataframe tbody tr th {\n",
       "        vertical-align: top;\n",
       "    }\n",
       "\n",
       "    .dataframe thead th {\n",
       "        text-align: right;\n",
       "    }\n",
       "</style>\n",
       "<table border=\"1\" class=\"dataframe\">\n",
       "  <thead>\n",
       "    <tr style=\"text-align: right;\">\n",
       "      <th></th>\n",
       "      <th>user id</th>\n",
       "      <th>test group</th>\n",
       "      <th>converted</th>\n",
       "      <th>total ads</th>\n",
       "      <th>most ads day</th>\n",
       "      <th>most ads hour</th>\n",
       "    </tr>\n",
       "  </thead>\n",
       "  <tbody>\n",
       "    <tr>\n",
       "      <th>576925</th>\n",
       "      <td>1194990</td>\n",
       "      <td>ad</td>\n",
       "      <td>False</td>\n",
       "      <td>2</td>\n",
       "      <td>Sunday</td>\n",
       "      <td>12</td>\n",
       "    </tr>\n",
       "    <tr>\n",
       "      <th>369045</th>\n",
       "      <td>1077776</td>\n",
       "      <td>ad</td>\n",
       "      <td>False</td>\n",
       "      <td>1</td>\n",
       "      <td>Sunday</td>\n",
       "      <td>21</td>\n",
       "    </tr>\n",
       "    <tr>\n",
       "      <th>272318</th>\n",
       "      <td>1339873</td>\n",
       "      <td>ad</td>\n",
       "      <td>False</td>\n",
       "      <td>33</td>\n",
       "      <td>Wednesday</td>\n",
       "      <td>13</td>\n",
       "    </tr>\n",
       "    <tr>\n",
       "      <th>331442</th>\n",
       "      <td>1509061</td>\n",
       "      <td>ad</td>\n",
       "      <td>False</td>\n",
       "      <td>3</td>\n",
       "      <td>Thursday</td>\n",
       "      <td>12</td>\n",
       "    </tr>\n",
       "    <tr>\n",
       "      <th>263232</th>\n",
       "      <td>1548307</td>\n",
       "      <td>ad</td>\n",
       "      <td>False</td>\n",
       "      <td>2</td>\n",
       "      <td>Tuesday</td>\n",
       "      <td>10</td>\n",
       "    </tr>\n",
       "  </tbody>\n",
       "</table>\n",
       "</div>"
      ],
      "text/plain": [
       "        user id test group  converted  total ads most ads day  most ads hour\n",
       "576925  1194990         ad      False          2       Sunday             12\n",
       "369045  1077776         ad      False          1       Sunday             21\n",
       "272318  1339873         ad      False         33    Wednesday             13\n",
       "331442  1509061         ad      False          3     Thursday             12\n",
       "263232  1548307         ad      False          2      Tuesday             10"
      ]
     },
     "execution_count": 16,
     "metadata": {},
     "output_type": "execute_result"
    }
   ],
   "source": [
    "df.sample(5)"
   ]
  },
  {
   "cell_type": "code",
   "execution_count": 14,
   "metadata": {},
   "outputs": [
    {
     "name": "stdout",
     "output_type": "stream",
     "text": [
      "Tasa conversión nuevo diseño: 0.026\n",
      "Tasa conversión antiguo diseño: 0.018\n"
     ]
    }
   ],
   "source": [
    "df_ad= df[df['test group']== 'ad']\n",
    "tasa_ad_converted = np.round(df_ad[df_ad['converted'] == True].shape[0] / df_ad.shape[0],3)\n",
    "\n",
    "df_psa = df[df['test group'] == 'psa']\n",
    "tasa_psa_converted = np.round(df_psa[df_psa['converted'] == True].shape[0]/df_psa.shape[0],3)\n",
    "\n",
    "print(f'Tasa conversión nuevo diseño: {tasa_ad_converted}')\n",
    "print(f'Tasa conversión antiguo diseño: {tasa_psa_converted}')"
   ]
  },
  {
   "cell_type": "code",
   "execution_count": 17,
   "metadata": {},
   "outputs": [],
   "source": [
    "from scipy.stats import chi2_contingency"
   ]
  },
  {
   "cell_type": "code",
   "execution_count": 19,
   "metadata": {},
   "outputs": [],
   "source": [
    "df2 =pd.DataFrame({'Grupo': ['ad', 'ps'],'tasa_converted': [np.round(df_ad[df_ad['converted'] == True].shape[0] / df_ad.shape[0],3),np.round(df_psa[df_psa['converted'] == True].shape[0]/df_psa.shape[0],3) ],\n",
    "         'tasa_sin_converted' : [np.round(df_ad[df_ad['converted'] == False].shape[0] / df_ad.shape[0],3),np.round(df_psa[df_psa['converted'] == False].shape[0]/df_psa.shape[0],3) ]})"
   ]
  },
  {
   "cell_type": "code",
   "execution_count": 20,
   "metadata": {},
   "outputs": [
    {
     "data": {
      "text/html": [
       "<div>\n",
       "<style scoped>\n",
       "    .dataframe tbody tr th:only-of-type {\n",
       "        vertical-align: middle;\n",
       "    }\n",
       "\n",
       "    .dataframe tbody tr th {\n",
       "        vertical-align: top;\n",
       "    }\n",
       "\n",
       "    .dataframe thead th {\n",
       "        text-align: right;\n",
       "    }\n",
       "</style>\n",
       "<table border=\"1\" class=\"dataframe\">\n",
       "  <thead>\n",
       "    <tr style=\"text-align: right;\">\n",
       "      <th></th>\n",
       "      <th>Grupo</th>\n",
       "      <th>tasa_converted</th>\n",
       "      <th>tasa_sin_converted</th>\n",
       "    </tr>\n",
       "  </thead>\n",
       "  <tbody>\n",
       "    <tr>\n",
       "      <th>0</th>\n",
       "      <td>ad</td>\n",
       "      <td>0.026</td>\n",
       "      <td>0.974</td>\n",
       "    </tr>\n",
       "    <tr>\n",
       "      <th>1</th>\n",
       "      <td>ps</td>\n",
       "      <td>0.018</td>\n",
       "      <td>0.982</td>\n",
       "    </tr>\n",
       "  </tbody>\n",
       "</table>\n",
       "</div>"
      ],
      "text/plain": [
       "  Grupo  tasa_converted  tasa_sin_converted\n",
       "0    ad           0.026               0.974\n",
       "1    ps           0.018               0.982"
      ]
     },
     "execution_count": 20,
     "metadata": {},
     "output_type": "execute_result"
    }
   ],
   "source": [
    "df2"
   ]
  },
  {
   "cell_type": "code",
   "execution_count": 21,
   "metadata": {},
   "outputs": [
    {
     "name": "stdout",
     "output_type": "stream",
     "text": [
      "No hay evidencia de una diferencia significativa en las tasas de conversión entre los grupos.\n"
     ]
    }
   ],
   "source": [
    "tabla_contingencia = pd.crosstab(df2['Grupo'], df2['tasa_converted'])\n",
    "chi2, p_value, _, _ = chi2_contingency(tabla_contingencia)\n",
    "\n",
    "alpha = 0.05\n",
    "if p_value < alpha:\n",
    "   print(\"Hay una diferencia significativa en las tasas de conversiíon entre ambos grupos\")\n",
    "else:\n",
    "  print(\"No hay evidencia de una diferencia significativa en las tasas de conversión entre los grupos.\")"
   ]
  },
  {
   "cell_type": "code",
   "execution_count": 24,
   "metadata": {},
   "outputs": [
    {
     "name": "stdout",
     "output_type": "stream",
     "text": [
      "No hay evidencia de una diferencia significativa en las tasas de clics entre los grupos.\n",
      "\n",
      " ---------- \n",
      "\n",
      "\n",
      "          Los resultados sugieren que no existe evidencia estadística para afirmar que las medias de las muestras son distintas. \n",
      "          Por lo tanto, aunque en la gráfica veamos que hay diferencias entre el grupo \"test\" y el grupo \"control\", \n",
      "          el análisis estadístico nos sugiera que estas diferencias no son significativas, \n",
      "          por lo que la nueva campaña no esta ayudando a nuestro problema.   \n",
      "          \n"
     ]
    }
   ],
   "source": [
    "t_stat, p_value = ttest_ind(tasa_ad_converted, tasa_psa_converted)\n",
    "\n",
    "if p_value < 0.05:\n",
    "    print(\"Hay una diferencia significativa en las tasas de clics entre el grupo de control y el grupo de prueba.\")\n",
    "    print(\"\\n ---------- \\n\")\n",
    "    print(\"\"\"\n",
    "          Los resultados sugieren que existe evidencia estadística para afirmar que las medias de las muestras son distintas. \n",
    "          Por lo tanto, nuestro nuevo sistema tiene los efectos deseados y deberíamos cambiar la nueva versión de anuncios   \n",
    "          \"\"\")\n",
    "else:\n",
    "    print(\"No hay evidencia de una diferencia significativa en las tasas de clics entre los grupos.\")\n",
    "    print(\"\\n ---------- \\n\")\n",
    "    print(\"\"\"\n",
    "          Los resultados sugieren que no existe evidencia estadística para afirmar que las medias de las muestras son distintas. \n",
    "          Por lo tanto, aunque en la gráfica veamos que hay diferencias entre el grupo \"test\" y el grupo \"control\", \n",
    "          el análisis estadístico nos sugiera que estas diferencias no son significativas, \n",
    "          por lo que la nueva campaña no esta ayudando a nuestro problema.   \n",
    "          \"\"\")"
   ]
  },
  {
   "cell_type": "markdown",
   "metadata": {},
   "source": [
    "# Ejercicio 2"
   ]
  },
  {
   "cell_type": "markdown",
   "metadata": {},
   "source": [
    "- H0: los anuncios no suponen una diferencia significativa\n",
    "- H1: los anuncios suponen una diferencia significativa"
   ]
  },
  {
   "cell_type": "code",
   "execution_count": 25,
   "metadata": {},
   "outputs": [
    {
     "data": {
      "text/plain": [
       "Index(['user id', 'test group', 'converted', 'total ads', 'most ads day',\n",
       "       'most ads hour'],\n",
       "      dtype='object')"
      ]
     },
     "execution_count": 25,
     "metadata": {},
     "output_type": "execute_result"
    }
   ],
   "source": [
    "df.columns"
   ]
  },
  {
   "cell_type": "code",
   "execution_count": 32,
   "metadata": {},
   "outputs": [],
   "source": [
    "df3 = pd.DataFrame({'grupo': ['ad', 'psa'], \n",
    "                    'anuncios vistos': [\n",
    "                        df[df['test group']=='ad']['total ads'].mean(), \n",
    "                        df[df['test group']=='psa']['total ads'].mean()]})"
   ]
  },
  {
   "cell_type": "code",
   "execution_count": 33,
   "metadata": {},
   "outputs": [
    {
     "data": {
      "text/html": [
       "<div>\n",
       "<style scoped>\n",
       "    .dataframe tbody tr th:only-of-type {\n",
       "        vertical-align: middle;\n",
       "    }\n",
       "\n",
       "    .dataframe tbody tr th {\n",
       "        vertical-align: top;\n",
       "    }\n",
       "\n",
       "    .dataframe thead th {\n",
       "        text-align: right;\n",
       "    }\n",
       "</style>\n",
       "<table border=\"1\" class=\"dataframe\">\n",
       "  <thead>\n",
       "    <tr style=\"text-align: right;\">\n",
       "      <th></th>\n",
       "      <th>grupo</th>\n",
       "      <th>anuncios vistos</th>\n",
       "    </tr>\n",
       "  </thead>\n",
       "  <tbody>\n",
       "    <tr>\n",
       "      <th>0</th>\n",
       "      <td>ad</td>\n",
       "      <td>24.823365</td>\n",
       "    </tr>\n",
       "    <tr>\n",
       "      <th>1</th>\n",
       "      <td>psa</td>\n",
       "      <td>24.761138</td>\n",
       "    </tr>\n",
       "  </tbody>\n",
       "</table>\n",
       "</div>"
      ],
      "text/plain": [
       "  grupo  anuncios vistos\n",
       "0    ad        24.823365\n",
       "1   psa        24.761138"
      ]
     },
     "execution_count": 33,
     "metadata": {},
     "output_type": "execute_result"
    }
   ],
   "source": [
    "df3"
   ]
  },
  {
   "cell_type": "code",
   "execution_count": 34,
   "metadata": {},
   "outputs": [
    {
     "name": "stdout",
     "output_type": "stream",
     "text": [
      "No hay evidencia de una diferencia significativa en las tasas de clics entre los grupos.\n",
      "\n",
      " ---------- \n",
      "\n",
      "\n",
      "          Los resultados sugieren que no existe evidencia estadística para afirmar que las medias de las muestras son distintas. \n",
      "          Por lo tanto, aunque en la gráfica veamos que hay diferencias entre el grupo \"test\" y el grupo \"control\", \n",
      "          el análisis estadístico nos sugiera que estas diferencias no son significativas, \n",
      "          por lo que la nueva campaña no esta ayudando a nuestro problema.   \n",
      "          \n"
     ]
    }
   ],
   "source": [
    "t_stat, p_value = ttest_ind(df3.iloc[0,1], df3.iloc[1,1])\n",
    "\n",
    "if p_value < 0.05:\n",
    "    print(\"Hay una diferencia significativa en las tasas de clics entre el grupo de control y el grupo de prueba.\")\n",
    "    print(\"\\n ---------- \\n\")\n",
    "    print(\"\"\"\n",
    "          Los resultados sugieren que existe evidencia estadística para afirmar que las medias de las muestras son distintas. \n",
    "          Por lo tanto, nuestro nuevo sistema tiene los efectos deseados y deberíamos cambiar la nueva versión de anuncios   \n",
    "          \"\"\")\n",
    "else:\n",
    "    print(\"No hay evidencia de una diferencia significativa en las tasas de clics entre los grupos.\")\n",
    "    print(\"\\n ---------- \\n\")\n",
    "    print(\"\"\"\n",
    "          Los resultados sugieren que no existe evidencia estadística para afirmar que las medias de las muestras son distintas. \n",
    "          Por lo tanto, aunque en la gráfica veamos que hay diferencias entre el grupo \"test\" y el grupo \"control\", \n",
    "          el análisis estadístico nos sugiera que estas diferencias no son significativas, \n",
    "          por lo que la nueva campaña no esta ayudando a nuestro problema.   \n",
    "          \"\"\")"
   ]
  }
 ],
 "metadata": {
  "kernelspec": {
   "display_name": "Python 3",
   "language": "python",
   "name": "python3"
  },
  "language_info": {
   "codemirror_mode": {
    "name": "ipython",
    "version": 3
   },
   "file_extension": ".py",
   "mimetype": "text/x-python",
   "name": "python",
   "nbconvert_exporter": "python",
   "pygments_lexer": "ipython3",
   "version": "3.11.8"
  }
 },
 "nbformat": 4,
 "nbformat_minor": 2
}
